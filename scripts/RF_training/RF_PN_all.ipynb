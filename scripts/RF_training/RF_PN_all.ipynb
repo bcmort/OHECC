{
 "cells": [
  {
   "cell_type": "code",
   "execution_count": 1,
   "metadata": {},
   "outputs": [],
   "source": [
    "import json\n",
    "import numpy as np\n",
    "import os\n",
    "from sklearn.metrics import accuracy_score, f1_score\n",
    "import matplotlib.pyplot as plt"
   ]
  },
  {
   "cell_type": "code",
   "execution_count": 2,
   "metadata": {},
   "outputs": [],
   "source": [
    "df = np.load('../qm9_filtered.npy', allow_pickle = True)"
   ]
  },
  {
   "cell_type": "code",
   "execution_count": 3,
   "metadata": {},
   "outputs": [],
   "source": [
    "df_X = []\n",
    "df_y = []\n",
    "\n",
    "for line in df:\n",
    "    deg = line['rotation'][1]\n",
    "    if deg > 0:\n",
    "        sign = 1\n",
    "    elif deg < 0:\n",
    "        sign = 0\n",
    "    else:\n",
    "        continue\n",
    "    \n",
    "    df_X.append(line['xyz'].flatten())\n",
    "    df_y.append(sign)\n",
    "    \n",
    "df_X = np.array(df_X)\n",
    "df_y = np.array(df_y)"
   ]
  },
  {
   "cell_type": "code",
   "execution_count": 4,
   "metadata": {},
   "outputs": [
    {
     "name": "stdout",
     "output_type": "stream",
     "text": [
      "118969 118969\n"
     ]
    }
   ],
   "source": [
    "print(len(df_X), len(df_y))"
   ]
  },
  {
   "cell_type": "code",
   "execution_count": 5,
   "metadata": {},
   "outputs": [],
   "source": [
    "from sklearn.model_selection import train_test_split\n",
    "\n",
    "X_train, X_test, y_train, y_test = train_test_split(df_X, df_y, test_size = 0.2)"
   ]
  },
  {
   "cell_type": "code",
   "execution_count": null,
   "metadata": {},
   "outputs": [
    {
     "name": "stdout",
     "output_type": "stream",
     "text": [
      "Fitting 3 folds for each of 20 candidates, totalling 60 fits\n",
      "[CV] END max_depth=None, max_features=sqrt, min_samples_leaf=6, n_estimators=1800; total time=18.5min\n",
      "[CV] END max_depth=None, max_features=sqrt, min_samples_leaf=6, n_estimators=1800; total time=14.1min\n",
      "[CV] END max_depth=None, max_features=sqrt, min_samples_leaf=6, n_estimators=1800; total time=10.8min\n",
      "[CV] END max_depth=420, max_features=sqrt, min_samples_leaf=4, n_estimators=1200; total time= 7.1min\n",
      "[CV] END max_depth=420, max_features=sqrt, min_samples_leaf=4, n_estimators=1200; total time= 6.8min\n",
      "[CV] END max_depth=420, max_features=sqrt, min_samples_leaf=4, n_estimators=1200; total time= 6.9min\n",
      "[CV] END max_depth=140, max_features=auto, min_samples_leaf=2, n_estimators=400; total time= 2.4min\n",
      "[CV] END max_depth=140, max_features=auto, min_samples_leaf=2, n_estimators=400; total time= 2.4min\n",
      "[CV] END max_depth=140, max_features=auto, min_samples_leaf=2, n_estimators=400; total time= 2.4min\n",
      "[CV] END max_depth=260, max_features=auto, min_samples_leaf=8, n_estimators=2000; total time=11.5min\n",
      "[CV] END max_depth=260, max_features=auto, min_samples_leaf=8, n_estimators=2000; total time=13.1min\n"
     ]
    }
   ],
   "source": [
    "from sklearn.model_selection import RandomizedSearchCV\n",
    "from sklearn.ensemble import RandomForestClassifier\n",
    "\n",
    "rfc = RandomForestClassifier()\n",
    "# number of trees in random forest\n",
    "n_estimators = [int(x) for x in np.linspace(start = 200, stop = 2000, num = 10)]\n",
    "\n",
    "min_samples_leaf = [int(x) for x in np.linspace(start = 2, stop = 10, num = 5)]\n",
    "\n",
    "# number of features at every split\n",
    "max_features = ['auto', 'sqrt']\n",
    "\n",
    "# max depth\n",
    "max_depth = [int(x) for x in np.linspace(100, 500, num = 11)]\n",
    "max_depth.append(None)\n",
    "\n",
    "# create random grid\n",
    "random_grid = {\n",
    "    'n_estimators': n_estimators,\n",
    "    'max_features': max_features,\n",
    "    'max_depth': max_depth,\n",
    "    'min_samples_leaf': min_samples_leaf\n",
    " }\n",
    "\n",
    "# Random search of parameters\n",
    "rfc_random = RandomizedSearchCV(estimator = rfc, param_distributions = random_grid, n_iter = 20, cv = 3, verbose=2, random_state=42, n_jobs = -1)\n",
    "\n",
    "# Fit the model\n",
    "rfc_random.fit(X_train, y_train)\n",
    "\n",
    "# print results\n",
    "print(rfc_random.best_params_)"
   ]
  },
  {
   "cell_type": "code",
   "execution_count": 6,
   "metadata": {},
   "outputs": [
    {
     "name": "stdout",
     "output_type": "stream",
     "text": [
      "Train acc:  0.999926451273969\n",
      "test acc:  0.7152643523577372\n",
      "f1:  0.7093646776200078\n"
     ]
    }
   ],
   "source": [
    "from sklearn.ensemble import RandomForestClassifier\n",
    "\n",
    "clf = RandomForestClassifier(n_estimators = 1200, min_samples_leaf = 2, max_features = 'sqrt', max_depth = 420)\n",
    "\n",
    "clf.fit(X_train, y_train)\n",
    "\n",
    "y_pred = clf.predict(X_test)\n",
    "\n",
    "y_train_pred = clf.predict(X_train)\n",
    "\n",
    "print(\"Train acc: \", accuracy_score(y_train, y_train_pred))\n",
    "print(\"test acc: \", accuracy_score(y_test, y_pred))\n",
    "print(\"f1: \", f1_score(y_test, y_pred))"
   ]
  },
  {
   "cell_type": "code",
   "execution_count": 7,
   "metadata": {},
   "outputs": [
    {
     "data": {
      "text/plain": [
       "array([[8751, 3331],\n",
       "       [3444, 8268]])"
      ]
     },
     "execution_count": 7,
     "metadata": {},
     "output_type": "execute_result"
    }
   ],
   "source": [
    "from sklearn.metrics import confusion_matrix\n",
    "\n",
    "confusion_matrix(y_test, y_pred)"
   ]
  },
  {
   "cell_type": "code",
   "execution_count": null,
   "metadata": {},
   "outputs": [],
   "source": []
  }
 ],
 "metadata": {
  "kernelspec": {
   "display_name": "Python 3 (3.9.5)",
   "language": "python",
   "name": "python3-3.9.5"
  },
  "language_info": {
   "codemirror_mode": {
    "name": "ipython",
    "version": 3
   },
   "file_extension": ".py",
   "mimetype": "text/x-python",
   "name": "python",
   "nbconvert_exporter": "python",
   "pygments_lexer": "ipython3",
   "version": "3.9.5"
  }
 },
 "nbformat": 4,
 "nbformat_minor": 2
}
