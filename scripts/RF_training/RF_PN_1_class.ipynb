{
 "cells": [
  {
   "cell_type": "code",
   "execution_count": 7,
   "metadata": {},
   "outputs": [],
   "source": [
    "import json\n",
    "import numpy as np\n",
    "import os\n",
    "from sklearn.metrics import accuracy_score, f1_score\n",
    "import matplotlib.pyplot as plt"
   ]
  },
  {
   "cell_type": "code",
   "execution_count": 8,
   "metadata": {},
   "outputs": [],
   "source": [
    "df = np.load('../qm9_filtered.npy', allow_pickle = True)"
   ]
  },
  {
   "cell_type": "code",
   "execution_count": 9,
   "metadata": {},
   "outputs": [],
   "source": [
    "df_X = []\n",
    "df_y = []\n",
    "\n",
    "for line in df:\n",
    "    num = len(line['chiral_centers'])\n",
    "    if num != 1:\n",
    "        continue\n",
    "    \n",
    "    deg = line['rotation'][1]\n",
    "    if deg > 0:\n",
    "        sign = 1\n",
    "    elif deg < 0:\n",
    "        sign = 0\n",
    "    else:\n",
    "        continue\n",
    "    \n",
    "    df_X.append(line['xyz'].flatten())\n",
    "    df_y.append(sign)\n",
    "    \n",
    "df_X = np.array(df_X)\n",
    "df_y = np.array(df_y)"
   ]
  },
  {
   "cell_type": "code",
   "execution_count": 10,
   "metadata": {},
   "outputs": [
    {
     "name": "stdout",
     "output_type": "stream",
     "text": [
      "22923 22923\n"
     ]
    }
   ],
   "source": [
    "print(len(df_X), len(df_y))"
   ]
  },
  {
   "cell_type": "code",
   "execution_count": 19,
   "metadata": {},
   "outputs": [],
   "source": [
    "from sklearn.model_selection import train_test_split\n",
    "\n",
    "X_train, X_test, y_train, y_test = train_test_split(df_X, df_y, test_size = 0.2, random_state=120)"
   ]
  },
  {
   "cell_type": "code",
   "execution_count": 20,
   "metadata": {},
   "outputs": [],
   "source": [
    "# from sklearn.model_selection import RandomizedSearchCV\n",
    "# from sklearn.ensemble import RandomForestClassifier\n",
    "\n",
    "# rfc = RandomForestClassifier()\n",
    "# # number of trees in random forest\n",
    "# n_estimators = [int(x) for x in np.linspace(start = 200, stop = 2000, num = 10)]\n",
    "\n",
    "# min_samples_leaf = [int(x) for x in np.linspace(start = 2, stop = 10, num = 5)]\n",
    "\n",
    "# # number of features at every split\n",
    "# max_features = ['auto', 'sqrt']\n",
    "\n",
    "# # max depth\n",
    "# max_depth = [int(x) for x in np.linspace(100, 500, num = 11)]\n",
    "# max_depth.append(None)\n",
    "\n",
    "# # create random grid\n",
    "# random_grid = {\n",
    "#     'n_estimators': n_estimators,\n",
    "#     'max_features': max_features,\n",
    "#     'max_depth': max_depth,\n",
    "#     'min_samples_leaf': min_samples_leaf\n",
    "#  }\n",
    "\n",
    "# # Random search of parameters\n",
    "# rfc_random = RandomizedSearchCV(estimator = rfc, param_distributions = random_grid, n_iter = 20, cv = 3, verbose=2, random_state=40, n_jobs = -1)\n",
    "\n",
    "# # Fit the model\n",
    "# rfc_random.fit(X_train, y_train)\n",
    "\n",
    "# # print results\n",
    "# print(rfc_random.best_params_)"
   ]
  },
  {
   "cell_type": "code",
   "execution_count": 21,
   "metadata": {},
   "outputs": [
    {
     "name": "stdout",
     "output_type": "stream",
     "text": [
      "Train acc:  0.9998364052786564\n",
      "test acc:  0.7149400218102508\n",
      "f1:  0.6922533553096304\n"
     ]
    }
   ],
   "source": [
    "from sklearn.ensemble import RandomForestClassifier\n",
    "\n",
    "clf = RandomForestClassifier(n_estimators = 1200, min_samples_leaf = 2, max_features = 'sqrt', max_depth = 100, random_state=40)\n",
    "\n",
    "clf.fit(X_train, y_train)\n",
    "\n",
    "y_pred = clf.predict(X_test)\n",
    "\n",
    "y_train_pred = clf.predict(X_train)\n",
    "\n",
    "print(\"Train acc: \", accuracy_score(y_train, y_train_pred))\n",
    "print(\"test acc: \", accuracy_score(y_test, y_pred))\n",
    "print(\"f1: \", f1_score(y_test, y_pred))"
   ]
  },
  {
   "cell_type": "code",
   "execution_count": 22,
   "metadata": {},
   "outputs": [
    {
     "data": {
      "text/plain": [
       "array([[1808,  599],\n",
       "       [ 708, 1470]])"
      ]
     },
     "execution_count": 22,
     "metadata": {},
     "output_type": "execute_result"
    }
   ],
   "source": [
    "from sklearn.metrics import confusion_matrix\n",
    "\n",
    "confusion_matrix(y_test, y_pred)"
   ]
  },
  {
   "cell_type": "code",
   "execution_count": null,
   "metadata": {},
   "outputs": [],
   "source": []
  }
 ],
 "metadata": {
  "kernelspec": {
   "display_name": "Python 3 (3.9.5)",
   "language": "python",
   "name": "python3-3.9.5"
  },
  "language_info": {
   "codemirror_mode": {
    "name": "ipython",
    "version": 3
   },
   "file_extension": ".py",
   "mimetype": "text/x-python",
   "name": "python",
   "nbconvert_exporter": "python",
   "pygments_lexer": "ipython3",
   "version": "3.9.5"
  }
 },
 "nbformat": 4,
 "nbformat_minor": 2
}
