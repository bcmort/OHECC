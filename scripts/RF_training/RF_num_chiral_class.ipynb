{
 "cells": [
  {
   "cell_type": "code",
   "execution_count": 1,
   "metadata": {},
   "outputs": [],
   "source": [
    "import json\n",
    "import numpy as np\n",
    "import os\n",
    "from sklearn.metrics import accuracy_score, f1_score\n",
    "import matplotlib.pyplot as plt\n",
    "import torch"
   ]
  },
  {
   "cell_type": "code",
   "execution_count": 2,
   "metadata": {},
   "outputs": [],
   "source": [
    "df = np.load('../qm9_filtered.npy', allow_pickle = True)"
   ]
  },
  {
   "cell_type": "code",
   "execution_count": 3,
   "metadata": {},
   "outputs": [],
   "source": [
    "df_X_0 = []\n",
    "df_y_0 = []\n",
    "df_X_1 = []\n",
    "df_y_1 = []\n",
    "df_X_2 = []\n",
    "df_y_2 = []\n",
    "df_X_3 = []\n",
    "df_y_3 = []\n",
    "df_X_4 = []\n",
    "df_y_4 = []\n",
    "\n",
    "for line in df:\n",
    "    num = len(line['chiral_centers'])\n",
    "    \n",
    "    if num > 5:\n",
    "        continue\n",
    "    elif num == 0:\n",
    "        df_X_0.append(line['xyz'].flatten())\n",
    "        df_y_0.append(0)\n",
    "    elif num == 1:\n",
    "        df_X_1.append(line['xyz'].flatten())\n",
    "        df_y_1.append(1)\n",
    "    elif num == 2:\n",
    "        df_X_2.append(line['xyz'].flatten())\n",
    "        df_y_2.append(2)\n",
    "    elif num == 3:\n",
    "        df_X_3.append(line['xyz'].flatten())\n",
    "        df_y_3.append(3)\n",
    "    elif num == 4:\n",
    "        df_X_4.append(line['xyz'].flatten())\n",
    "        df_y_4.append(4)\n",
    "    \n",
    "df_X_0 = np.array(df_X_0)\n",
    "df_y_0 = np.array(df_y_0)\n",
    "df_X_1 = np.array(df_X_1)\n",
    "df_y_1 = np.array(df_y_1)\n",
    "df_X_2 = np.array(df_X_2)\n",
    "df_y_2 = np.array(df_y_2)\n",
    "df_X_3 = np.array(df_X_3)\n",
    "df_y_3 = np.array(df_y_3)\n",
    "df_X_4 = np.array(df_X_4)\n",
    "df_y_4 = np.array(df_y_4)\n",
    "    \n",
    "idx_0 = np.random.choice(np.arange(len(df_y_0)), 10000, replace=False)\n",
    "df_X_0 = df_X_0[idx_0]\n",
    "df_y_0 = df_y_0[idx_0]\n",
    "\n",
    "idx_1 = np.random.choice(np.arange(len(df_y_1)), 10000, replace=False)\n",
    "df_X_1 = df_X_1[idx_1]\n",
    "df_y_1 = df_y_1[idx_1]\n",
    "\n",
    "idx_2 = np.random.choice(np.arange(len(df_y_2)), 10000, replace=False)\n",
    "df_X_2 = df_X_2[idx_2]\n",
    "df_y_2 = df_y_2[idx_2]\n",
    "\n",
    "idx_3 = np.random.choice(np.arange(len(df_y_3)), 10000, replace=False)\n",
    "df_X_3 = df_X_3[idx_3]\n",
    "df_y_3 = df_y_3[idx_3]\n",
    "\n",
    "idx_4 = np.random.choice(np.arange(len(df_y_4)), 10000, replace=False)\n",
    "df_X_4 = df_X_4[idx_4]\n",
    "df_y_4 = df_y_4[idx_4]\n",
    "\n",
    "\n",
    "df_X = np.concatenate((df_X_0, df_X_1, df_X_2, df_X_3, df_X_4), axis=0)\n",
    "df_y = np.concatenate((df_y_0, df_y_1, df_y_2, df_y_3, df_y_4), axis=0)"
   ]
  },
  {
   "cell_type": "code",
   "execution_count": 4,
   "metadata": {},
   "outputs": [
    {
     "name": "stdout",
     "output_type": "stream",
     "text": [
      "50000 50000\n"
     ]
    }
   ],
   "source": [
    "print(len(df_X), len(df_y))"
   ]
  },
  {
   "cell_type": "code",
   "execution_count": 5,
   "metadata": {},
   "outputs": [],
   "source": [
    "from sklearn.model_selection import train_test_split\n",
    "\n",
    "X_train, X_test, y_train, y_test = train_test_split(df_X, df_y, test_size = 0.2)"
   ]
  },
  {
   "cell_type": "code",
   "execution_count": 7,
   "metadata": {},
   "outputs": [
    {
     "name": "stdout",
     "output_type": "stream",
     "text": [
      "Train acc:  1.0\n",
      "test acc:  0.7002\n",
      "f1:  0.6991531444664242\n"
     ]
    }
   ],
   "source": [
    "from sklearn.ensemble import RandomForestClassifier\n",
    "\n",
    "clf = RandomForestClassifier(n_estimators = 100)\n",
    "\n",
    "clf.fit(X_train, y_train)\n",
    "\n",
    "y_pred = clf.predict(X_test)\n",
    "\n",
    "y_train_pred = clf.predict(X_train)\n",
    "\n",
    "print(\"Train acc: \", accuracy_score(y_train, y_train_pred))\n",
    "print(\"test acc: \", accuracy_score(y_test, y_pred))\n",
    "print(\"f1: \", f1_score(y_test, y_pred, average = 'weighted'))"
   ]
  },
  {
   "cell_type": "code",
   "execution_count": 8,
   "metadata": {},
   "outputs": [
    {
     "data": {
      "text/plain": [
       "array([[1602,  244,   92,   23,   22],\n",
       "       [ 300, 1317,  247,   97,   33],\n",
       "       [ 122,  341, 1155,  274,  122],\n",
       "       [  38,  104,  259, 1392,  239],\n",
       "       [  26,   42,   91,  282, 1536]])"
      ]
     },
     "execution_count": 8,
     "metadata": {},
     "output_type": "execute_result"
    }
   ],
   "source": [
    "from sklearn.metrics import confusion_matrix\n",
    "\n",
    "confusion_matrix(y_test, y_pred)"
   ]
  },
  {
   "cell_type": "code",
   "execution_count": null,
   "metadata": {},
   "outputs": [],
   "source": []
  }
 ],
 "metadata": {
  "kernelspec": {
   "display_name": "Python 3 (3.9.5)",
   "language": "python",
   "name": "python3-3.9.5"
  },
  "language_info": {
   "codemirror_mode": {
    "name": "ipython",
    "version": 3
   },
   "file_extension": ".py",
   "mimetype": "text/x-python",
   "name": "python",
   "nbconvert_exporter": "python",
   "pygments_lexer": "ipython3",
   "version": "3.9.5"
  }
 },
 "nbformat": 4,
 "nbformat_minor": 2
}
