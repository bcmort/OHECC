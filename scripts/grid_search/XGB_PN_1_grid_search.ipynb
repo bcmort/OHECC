{
 "cells": [
  {
   "cell_type": "code",
   "execution_count": 10,
   "metadata": {},
   "outputs": [],
   "source": [
    "import json\n",
    "import numpy as np\n",
    "import pandas as pd\n",
    "import os\n",
    "from sklearn.metrics import accuracy_score, f1_score, confusion_matrix\n",
    "import matplotlib.pyplot as plt"
   ]
  },
  {
   "cell_type": "code",
   "execution_count": 2,
   "metadata": {},
   "outputs": [],
   "source": [
    "df = np.load('../qm9_filtered.npy', allow_pickle = True)"
   ]
  },
  {
   "cell_type": "code",
   "execution_count": 3,
   "metadata": {},
   "outputs": [],
   "source": [
    "df_X = []\n",
    "df_y = []\n",
    "\n",
    "for line in df:\n",
    "    num = len(line['chiral_centers'])\n",
    "    if num != 1:\n",
    "        continue\n",
    "    \n",
    "    deg = line['rotation'][1]\n",
    "    if deg > 0:\n",
    "        sign = 1\n",
    "    elif deg < 0:\n",
    "        sign = 0\n",
    "    else:\n",
    "        continue\n",
    "    \n",
    "    df_X.append(line['xyz'].flatten())\n",
    "    df_y.append(sign)\n",
    "    \n",
    "df_X = np.array(df_X)\n",
    "df_y = np.array(df_y)"
   ]
  },
  {
   "cell_type": "code",
   "execution_count": 4,
   "metadata": {},
   "outputs": [
    {
     "name": "stdout",
     "output_type": "stream",
     "text": [
      "22923 22923\n"
     ]
    }
   ],
   "source": [
    "print(len(df_X), len(df_y))"
   ]
  },
  {
   "cell_type": "code",
   "execution_count": 19,
   "metadata": {},
   "outputs": [],
   "source": [
    "from sklearn.model_selection import train_test_split\n",
    "\n",
    "X_train, X_test, y_train, y_test = train_test_split(df_X, df_y, test_size = 0.2, random_state=120)"
   ]
  },
  {
   "cell_type": "code",
   "execution_count": 21,
   "metadata": {},
   "outputs": [
    {
     "name": "stdout",
     "output_type": "stream",
     "text": [
      "5\n",
      "[[1628  779]\n",
      " [ 884 1294]]\n",
      "10\n",
      "[[1738  669]\n",
      " [ 712 1466]]\n",
      "20\n",
      "[[1760  647]\n",
      " [ 656 1522]]\n",
      "30\n",
      "[[1742  665]\n",
      " [ 652 1526]]\n"
     ]
    }
   ],
   "source": [
    "from xgboost import XGBClassifier\n",
    "\n",
    "# Define the depths to search\n",
    "max_depth_values = [5, 10, 20, 30]\n",
    "\n",
    "# Initialize results list\n",
    "results = []\n",
    "\n",
    "# Iterate over different depths\n",
    "for depth in max_depth_values:\n",
    "    print(depth)\n",
    "    clf = XGBClassifier(max_depth=depth, use_label_encoder=False, eval_metric='logloss', eta = 0.13)\n",
    "    clf.fit(X_train, y_train)\n",
    "    \n",
    "    y_pred = clf.predict(X_test)\n",
    "    y_train_pred = clf.predict(X_train)\n",
    "    \n",
    "    test_acc = accuracy_score(y_test, y_pred)\n",
    "    test_f1 = f1_score(y_test, y_pred)\n",
    "    \n",
    "    cm = confusion_matrix(y_test, y_pred)\n",
    "    print(cm)\n",
    "    \n",
    "#     results.append({\"Depth\": depth, \"Test Accuracy\": test_acc, \"Test F1 Score\": test_f1, \"confusion_matrix\": cm})\n",
    "\n",
    "# # Convert results to DataFrame\n",
    "# results_df = pd.DataFrame(results)\n",
    "\n",
    "# results_df"
   ]
  },
  {
   "cell_type": "code",
   "execution_count": 15,
   "metadata": {},
   "outputs": [],
   "source": [
    "# results_df.to_csv('XGB_PN_class_result.csv', index=False)"
   ]
  },
  {
   "cell_type": "code",
   "execution_count": null,
   "metadata": {},
   "outputs": [],
   "source": []
  }
 ],
 "metadata": {
  "kernelspec": {
   "display_name": "Python 3 (3.9.5)",
   "language": "python",
   "name": "python3-3.9.5"
  },
  "language_info": {
   "codemirror_mode": {
    "name": "ipython",
    "version": 3
   },
   "file_extension": ".py",
   "mimetype": "text/x-python",
   "name": "python",
   "nbconvert_exporter": "python",
   "pygments_lexer": "ipython3",
   "version": "3.9.5"
  }
 },
 "nbformat": 4,
 "nbformat_minor": 2
}
