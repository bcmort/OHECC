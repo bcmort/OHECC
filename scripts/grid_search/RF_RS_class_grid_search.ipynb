{
 "cells": [
  {
   "cell_type": "code",
   "execution_count": 10,
   "metadata": {},
   "outputs": [],
   "source": [
    "import json\n",
    "import numpy as np\n",
    "import pandas as pd\n",
    "import os\n",
    "from sklearn.metrics import accuracy_score, f1_score\n",
    "import matplotlib.pyplot as plt"
   ]
  },
  {
   "cell_type": "code",
   "execution_count": 11,
   "metadata": {},
   "outputs": [],
   "source": [
    "df = np.load('../qm9_filtered.npy', allow_pickle = True)"
   ]
  },
  {
   "cell_type": "code",
   "execution_count": 12,
   "metadata": {},
   "outputs": [],
   "source": [
    "df_X = []\n",
    "df_y = []\n",
    "\n",
    "for line in df:\n",
    "    num = len(line['chiral_centers'])\n",
    "    if num != 1:\n",
    "        continue\n",
    "    \n",
    "    df_X.append(line['xyz'].flatten())\n",
    "    if line['chiral_centers'][0][1] == \"R\":\n",
    "        df_y.append(0)\n",
    "    else:\n",
    "        df_y.append(1)\n",
    "    \n",
    "    \n",
    "df_X = np.array(df_X)\n",
    "df_y = np.array(df_y)"
   ]
  },
  {
   "cell_type": "code",
   "execution_count": 13,
   "metadata": {},
   "outputs": [
    {
     "name": "stdout",
     "output_type": "stream",
     "text": [
      "22973 22973\n"
     ]
    }
   ],
   "source": [
    "print(len(df_X), len(df_y))"
   ]
  },
  {
   "cell_type": "code",
   "execution_count": 29,
   "metadata": {},
   "outputs": [],
   "source": [
    "from sklearn.model_selection import train_test_split\n",
    "\n",
    "X_train, X_test, y_train, y_test = train_test_split(df_X, df_y, test_size = 0.2, random_state=40)"
   ]
  },
  {
   "cell_type": "code",
   "execution_count": 30,
   "metadata": {},
   "outputs": [],
   "source": [
    "from sklearn.model_selection import RandomizedSearchCV\n",
    "from sklearn.ensemble import RandomForestClassifier\n",
    "from sklearn.model_selection import ParameterSampler\n",
    "\n",
    "\n",
    "rfc = RandomForestClassifier(random_state=60)\n",
    "# number of trees in random forest\n",
    "# n_estimators = [int(x) for x in np.linspace(start = 1000, stop = 2000, num = 6)]\n",
    "n_estimators = [1800]\n",
    "\n",
    "# min_samples_leaf = [int(x) for x in np.linspace(start = 2, stop = 10, num = 5)]\n",
    "min_samples_leaf = [2]\n",
    "\n",
    "# number of features at every split\n",
    "# max_features = ['auto', 'sqrt']\n",
    "max_features = ['sqrt']\n",
    "\n",
    "# max depth\n",
    "max_depth = [5, 50, 100, 180]\n",
    "\n",
    "# create random grid\n",
    "random_grid = {\n",
    "    'n_estimators': n_estimators,\n",
    "    'max_features': max_features,\n",
    "    'max_depth': max_depth,\n",
    "    'min_samples_leaf': min_samples_leaf\n",
    " }\n",
    "\n",
    "# Random search of parameters\n",
    "rfc_random = RandomizedSearchCV(estimator = rfc,\n",
    "                                param_distributions = random_grid,\n",
    "                                scoring='accuracy',\n",
    "                                return_train_score=True,\n",
    "                                n_iter = 4,\n",
    "                                cv = 3,\n",
    "                                verbose=2,\n",
    "                                random_state=42,\n",
    "                                n_jobs = -1)\n",
    "# # Random search of parameters\n",
    "# rfc_random = RandomizedSearchCV(estimator = rfc, param_distributions = random_grid, n_iter = 20, cv = 3, verbose=2, random_state=42, n_jobs = -1)\n",
    "\n",
    "# # Fit the model\n",
    "# rfc_random.fit(X_train, y_train)\n",
    "\n",
    "# # print results\n",
    "# print(rfc_random.best_params_)"
   ]
  },
  {
   "cell_type": "code",
   "execution_count": 31,
   "metadata": {},
   "outputs": [
    {
     "name": "stdout",
     "output_type": "stream",
     "text": [
      "{'n_estimators': 1800, 'min_samples_leaf': 2, 'max_features': 'sqrt', 'max_depth': 5}\n",
      "{'n_estimators': 1800, 'min_samples_leaf': 2, 'max_features': 'sqrt', 'max_depth': 50}\n",
      "{'n_estimators': 1800, 'min_samples_leaf': 2, 'max_features': 'sqrt', 'max_depth': 100}\n",
      "{'n_estimators': 1800, 'min_samples_leaf': 2, 'max_features': 'sqrt', 'max_depth': 180}\n"
     ]
    },
    {
     "data": {
      "text/html": [
       "<div>\n",
       "<style scoped>\n",
       "    .dataframe tbody tr th:only-of-type {\n",
       "        vertical-align: middle;\n",
       "    }\n",
       "\n",
       "    .dataframe tbody tr th {\n",
       "        vertical-align: top;\n",
       "    }\n",
       "\n",
       "    .dataframe thead th {\n",
       "        text-align: right;\n",
       "    }\n",
       "</style>\n",
       "<table border=\"1\" class=\"dataframe\">\n",
       "  <thead>\n",
       "    <tr style=\"text-align: right;\">\n",
       "      <th></th>\n",
       "      <th>n_estimators</th>\n",
       "      <th>min_samples_leaf</th>\n",
       "      <th>max_features</th>\n",
       "      <th>max_depth</th>\n",
       "      <th>test_accuracy</th>\n",
       "      <th>test_f1_score</th>\n",
       "    </tr>\n",
       "  </thead>\n",
       "  <tbody>\n",
       "    <tr>\n",
       "      <th>0</th>\n",
       "      <td>1800</td>\n",
       "      <td>2</td>\n",
       "      <td>sqrt</td>\n",
       "      <td>5</td>\n",
       "      <td>0.631556</td>\n",
       "      <td>0.627371</td>\n",
       "    </tr>\n",
       "    <tr>\n",
       "      <th>1</th>\n",
       "      <td>1800</td>\n",
       "      <td>2</td>\n",
       "      <td>sqrt</td>\n",
       "      <td>50</td>\n",
       "      <td>0.754951</td>\n",
       "      <td>0.754808</td>\n",
       "    </tr>\n",
       "    <tr>\n",
       "      <th>2</th>\n",
       "      <td>1800</td>\n",
       "      <td>2</td>\n",
       "      <td>sqrt</td>\n",
       "      <td>100</td>\n",
       "      <td>0.755169</td>\n",
       "      <td>0.755023</td>\n",
       "    </tr>\n",
       "    <tr>\n",
       "      <th>3</th>\n",
       "      <td>1800</td>\n",
       "      <td>2</td>\n",
       "      <td>sqrt</td>\n",
       "      <td>180</td>\n",
       "      <td>0.755169</td>\n",
       "      <td>0.755023</td>\n",
       "    </tr>\n",
       "  </tbody>\n",
       "</table>\n",
       "</div>"
      ],
      "text/plain": [
       "   n_estimators  min_samples_leaf max_features  max_depth  test_accuracy  \\\n",
       "0          1800                 2         sqrt          5       0.631556   \n",
       "1          1800                 2         sqrt         50       0.754951   \n",
       "2          1800                 2         sqrt        100       0.755169   \n",
       "3          1800                 2         sqrt        180       0.755169   \n",
       "\n",
       "   test_f1_score  \n",
       "0       0.627371  \n",
       "1       0.754808  \n",
       "2       0.755023  \n",
       "3       0.755023  "
      ]
     },
     "execution_count": 31,
     "metadata": {},
     "output_type": "execute_result"
    }
   ],
   "source": [
    "# Evaluate each parameter combination\n",
    "results = []\n",
    "for params in ParameterSampler(rfc_random.param_distributions, n_iter=rfc_random.n_iter, random_state=rfc_random.random_state):\n",
    "    print(params)\n",
    "    # Train model with current parameters\n",
    "    model = RandomForestClassifier(**params, random_state=42)\n",
    "    model.fit(X_train, y_train)\n",
    "    \n",
    "    # Evaluate on test data\n",
    "    y_pred = model.predict(X_test)\n",
    "    acc = accuracy_score(y_test, y_pred)\n",
    "    f1 = f1_score(y_test, y_pred, average='weighted')  # Adjust for multi-class\n",
    "\n",
    "    # Store results\n",
    "    results.append({**params, 'test_accuracy': acc, 'test_f1_score': f1})\n",
    "\n",
    "# Convert to DataFrame and display results\n",
    "df_results = pd.DataFrame(results)\n",
    "\n",
    "df_results"
   ]
  },
  {
   "cell_type": "code",
   "execution_count": 32,
   "metadata": {},
   "outputs": [],
   "source": [
    "df_results.to_csv('RF_RS_class_result.csv', index=False)"
   ]
  }
 ],
 "metadata": {
  "kernelspec": {
   "display_name": "Python 3 (3.9.5)",
   "language": "python",
   "name": "python3-3.9.5"
  },
  "language_info": {
   "codemirror_mode": {
    "name": "ipython",
    "version": 3
   },
   "file_extension": ".py",
   "mimetype": "text/x-python",
   "name": "python",
   "nbconvert_exporter": "python",
   "pygments_lexer": "ipython3",
   "version": "3.9.5"
  }
 },
 "nbformat": 4,
 "nbformat_minor": 2
}
