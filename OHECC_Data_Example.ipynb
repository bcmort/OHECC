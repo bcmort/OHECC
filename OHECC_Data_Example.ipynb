{
 "cells": [
  {
   "cell_type": "markdown",
   "metadata": {},
   "source": [
    "## Description\n",
    "\n",
    "The dataset qm9_filtered.npy is a numpy array of dictionaries. Each record contains:\n",
    "\n",
    "1) index\n",
    "\n",
    "2) inchi: InChI string representing the molecule\n",
    "\n",
    "3) xyz: one-hot encoded Cartesian coordinate (OHECC) of each atom in the molecule. The first 3 columns are the x, y, and z coordinates, the remaining 5 columns are the one-hot encoded atom type, H, C, N, O, F. (e.g. if the row represents a C, column [4] will be 1). Geometries were optimized using DFT with Gaussian 16.\n",
    "\n",
    "4) chiral_centers: a list of tuples representing R/S conformation of the chiral centers in the molecule as determined by RDKit\n",
    "\n",
    "5) rotation: The optical rotation calculated from DFT calculations with Gaussian 16 at 3 wavelengths {633 nm, 589.3 nm, 355 nm}."
   ]
  },
  {
   "cell_type": "code",
   "execution_count": 23,
   "metadata": {},
   "outputs": [],
   "source": [
    "import json\n",
    "import numpy as np\n",
    "import pandas as pd"
   ]
  },
  {
   "cell_type": "code",
   "execution_count": 24,
   "metadata": {},
   "outputs": [],
   "source": [
    "df = np.load('qm9_filtered.npy', allow_pickle = True)"
   ]
  },
  {
   "cell_type": "code",
   "execution_count": 25,
   "metadata": {},
   "outputs": [
    {
     "name": "stdout",
     "output_type": "stream",
     "text": [
      "121416\n"
     ]
    }
   ],
   "source": [
    "print(len(df))"
   ]
  },
  {
   "cell_type": "code",
   "execution_count": 43,
   "metadata": {},
   "outputs": [
    {
     "data": {
      "text/plain": [
       "{'index': '012278',\n",
       " 'inchi': 'InChI=1S/C6H12O2/c1-4-5(2)8-6(4)3-7/h4-7H,3H2,1-2H3/t4-,5+,6-/m0/s1',\n",
       " 'xyz': array([[ 0.4737461 ,  1.34171725, -0.38065229,  0.        ,  1.        ,\n",
       "          0.        ,  0.        ,  0.        ],\n",
       "        [ 0.10818632, -0.06642883,  0.05079537,  0.        ,  1.        ,\n",
       "          0.        ,  0.        ,  0.        ],\n",
       "        [ 0.78970083, -1.07825735, -0.73751817,  0.        ,  0.        ,\n",
       "          0.        ,  1.        ,  0.        ],\n",
       "        [ 1.42587437, -1.64873001,  0.43597351,  0.        ,  1.        ,\n",
       "          0.        ,  0.        ,  0.        ],\n",
       "        [ 2.93698754, -1.58614569,  0.26908511,  0.        ,  1.        ,\n",
       "          0.        ,  0.        ,  0.        ],\n",
       "        [ 3.31145214, -2.2649531 , -0.91487644,  0.        ,  0.        ,\n",
       "          0.        ,  1.        ,  0.        ],\n",
       "        [ 0.69126202, -0.65241736,  1.37096301,  0.        ,  1.        ,\n",
       "          0.        ,  0.        ,  0.        ],\n",
       "        [ 1.48538722,  0.23887286,  2.31909454,  0.        ,  1.        ,\n",
       "          0.        ,  0.        ,  0.        ],\n",
       "        [ 1.55091392,  1.51953882, -0.32098675,  1.        ,  0.        ,\n",
       "          0.        ,  0.        ,  0.        ],\n",
       "        [ 0.1627563 ,  1.50010194, -1.41815977,  1.        ,  0.        ,\n",
       "          0.        ,  0.        ,  0.        ],\n",
       "        [-0.03823441,  2.08281422,  0.24285354,  1.        ,  0.        ,\n",
       "          0.        ,  0.        ,  0.        ],\n",
       "        [-0.97861283, -0.20009847, -0.0322773 ,  1.        ,  0.        ,\n",
       "          0.        ,  0.        ,  0.        ],\n",
       "        [ 1.12752354, -2.69800449,  0.55787974,  1.        ,  0.        ,\n",
       "          0.        ,  0.        ,  0.        ],\n",
       "        [ 3.27600031, -0.53901717,  0.2489209 ,  1.        ,  0.        ,\n",
       "          0.        ,  0.        ,  0.        ],\n",
       "        [ 3.44043548, -2.0869714 ,  1.10370273,  1.        ,  0.        ,\n",
       "          0.        ,  0.        ,  0.        ],\n",
       "        [ 2.74326882, -1.90561208, -1.60826912,  1.        ,  0.        ,\n",
       "          0.        ,  0.        ,  0.        ],\n",
       "        [-0.08817214, -1.16389052,  1.94185139,  1.        ,  0.        ,\n",
       "          0.        ,  0.        ,  0.        ],\n",
       "        [ 2.27744271,  0.79797882,  1.81504782,  1.        ,  0.        ,\n",
       "          0.        ,  0.        ,  0.        ],\n",
       "        [ 0.82619362,  0.96550765,  2.80568427,  1.        ,  0.        ,\n",
       "          0.        ,  0.        ,  0.        ],\n",
       "        [ 1.95226482, -0.35774575,  3.1098938 ,  1.        ,  0.        ,\n",
       "          0.        ,  0.        ,  0.        ],\n",
       "        [ 0.        ,  0.        ,  0.        ,  0.        ,  0.        ,\n",
       "          0.        ,  0.        ,  0.        ],\n",
       "        [ 0.        ,  0.        ,  0.        ,  0.        ,  0.        ,\n",
       "          0.        ,  0.        ,  0.        ],\n",
       "        [ 0.        ,  0.        ,  0.        ,  0.        ,  0.        ,\n",
       "          0.        ,  0.        ,  0.        ],\n",
       "        [ 0.        ,  0.        ,  0.        ,  0.        ,  0.        ,\n",
       "          0.        ,  0.        ,  0.        ],\n",
       "        [ 0.        ,  0.        ,  0.        ,  0.        ,  0.        ,\n",
       "          0.        ,  0.        ,  0.        ],\n",
       "        [ 0.        ,  0.        ,  0.        ,  0.        ,  0.        ,\n",
       "          0.        ,  0.        ,  0.        ],\n",
       "        [ 0.        ,  0.        ,  0.        ,  0.        ,  0.        ,\n",
       "          0.        ,  0.        ,  0.        ]]),\n",
       " 'chiral_centers': [(3, 'S'), (4, 'R'), (5, 'R')],\n",
       " 'rotation': [2.09, 2.76, 23.18]}"
      ]
     },
     "execution_count": 43,
     "metadata": {},
     "output_type": "execute_result"
    }
   ],
   "source": [
    "df[12444]"
   ]
  },
  {
   "cell_type": "code",
   "execution_count": null,
   "metadata": {},
   "outputs": [],
   "source": []
  }
 ],
 "metadata": {
  "kernelspec": {
   "display_name": "Python 3 (ipykernel)",
   "language": "python",
   "name": "python3"
  },
  "language_info": {
   "codemirror_mode": {
    "name": "ipython",
    "version": 3
   },
   "file_extension": ".py",
   "mimetype": "text/x-python",
   "name": "python",
   "nbconvert_exporter": "python",
   "pygments_lexer": "ipython3",
   "version": "3.9.18"
  }
 },
 "nbformat": 4,
 "nbformat_minor": 4
}
